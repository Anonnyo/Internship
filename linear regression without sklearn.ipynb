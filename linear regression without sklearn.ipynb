{
 "cells": [
  {
   "cell_type": "code",
   "execution_count": 1,
   "id": "c917f1bb",
   "metadata": {},
   "outputs": [
    {
     "data": {
      "text/html": [
       "<div>\n",
       "<style scoped>\n",
       "    .dataframe tbody tr th:only-of-type {\n",
       "        vertical-align: middle;\n",
       "    }\n",
       "\n",
       "    .dataframe tbody tr th {\n",
       "        vertical-align: top;\n",
       "    }\n",
       "\n",
       "    .dataframe thead th {\n",
       "        text-align: right;\n",
       "    }\n",
       "</style>\n",
       "<table border=\"1\" class=\"dataframe\">\n",
       "  <thead>\n",
       "    <tr style=\"text-align: right;\">\n",
       "      <th></th>\n",
       "      <th>Id</th>\n",
       "      <th>height</th>\n",
       "      <th>weight</th>\n",
       "    </tr>\n",
       "  </thead>\n",
       "  <tbody>\n",
       "    <tr>\n",
       "      <th>0</th>\n",
       "      <td>1</td>\n",
       "      <td>70.49366</td>\n",
       "      <td>129.3840</td>\n",
       "    </tr>\n",
       "    <tr>\n",
       "      <th>1</th>\n",
       "      <td>2</td>\n",
       "      <td>65.23482</td>\n",
       "      <td>104.5786</td>\n",
       "    </tr>\n",
       "    <tr>\n",
       "      <th>2</th>\n",
       "      <td>3</td>\n",
       "      <td>67.59619</td>\n",
       "      <td>131.7669</td>\n",
       "    </tr>\n",
       "    <tr>\n",
       "      <th>3</th>\n",
       "      <td>4</td>\n",
       "      <td>68.51919</td>\n",
       "      <td>135.0276</td>\n",
       "    </tr>\n",
       "    <tr>\n",
       "      <th>4</th>\n",
       "      <td>5</td>\n",
       "      <td>67.07600</td>\n",
       "      <td>118.4065</td>\n",
       "    </tr>\n",
       "  </tbody>\n",
       "</table>\n",
       "</div>"
      ],
      "text/plain": [
       "   Id    height    weight\n",
       "0   1  70.49366  129.3840\n",
       "1   2  65.23482  104.5786\n",
       "2   3  67.59619  131.7669\n",
       "3   4  68.51919  135.0276\n",
       "4   5  67.07600  118.4065"
      ]
     },
     "execution_count": 1,
     "metadata": {},
     "output_type": "execute_result"
    }
   ],
   "source": [
    "import pandas as pd\n",
    "import matplotlib.pyplot as plt\n",
    "\n",
    "df = pd.read_csv('desktop/train.csv')\n",
    "df.head()"
   ]
  },
  {
   "cell_type": "code",
   "execution_count": 2,
   "id": "2b0331b2",
   "metadata": {},
   "outputs": [
    {
     "name": "stdout",
     "output_type": "stream",
     "text": [
      "<class 'pandas.core.frame.DataFrame'>\n",
      "RangeIndex: 20000 entries, 0 to 19999\n",
      "Data columns (total 3 columns):\n",
      " #   Column  Non-Null Count  Dtype  \n",
      "---  ------  --------------  -----  \n",
      " 0   Id      20000 non-null  int64  \n",
      " 1   height  20000 non-null  float64\n",
      " 2   weight  20000 non-null  float64\n",
      "dtypes: float64(2), int64(1)\n",
      "memory usage: 468.9 KB\n"
     ]
    }
   ],
   "source": [
    "df.info()"
   ]
  },
  {
   "cell_type": "code",
   "execution_count": 3,
   "id": "c8215655",
   "metadata": {},
   "outputs": [],
   "source": [
    "x = df.weight"
   ]
  },
  {
   "cell_type": "code",
   "execution_count": 4,
   "id": "a780544c",
   "metadata": {},
   "outputs": [],
   "source": [
    "y = df.height"
   ]
  },
  {
   "cell_type": "code",
   "execution_count": 5,
   "id": "e667c556",
   "metadata": {},
   "outputs": [
    {
     "data": {
      "text/plain": [
       "<matplotlib.collections.PathCollection at 0x17d20555df0>"
      ]
     },
     "execution_count": 5,
     "metadata": {},
     "output_type": "execute_result"
    },
    {
     "data": {
      "image/png": "[encoded data removed]",
      "text/plain": [
       "<Figure size 432x288 with 1 Axes>"
      ]
     },
     "metadata": {
      "needs_background": "light"
     },
     "output_type": "display_data"
    }
   ],
   "source": [
    "plt.scatter(x,y)"
   ]
  },
  {
   "cell_type": "code",
   "execution_count": 6,
   "id": "0e8a181e",
   "metadata": {},
   "outputs": [
    {
     "data": {
      "text/plain": [
       "127.09731392900001"
      ]
     },
     "execution_count": 6,
     "metadata": {},
     "output_type": "execute_result"
    }
   ],
   "source": [
    "# SS for X\n",
    "xm = x.mean()\n",
    "xm"
   ]
  },
  {
   "cell_type": "code",
   "execution_count": 7,
   "id": "c3a744b3",
   "metadata": {},
   "outputs": [],
   "source": [
    "df['difx'] = xm - x"
   ]
  },
  {
   "cell_type": "code",
   "execution_count": 8,
   "id": "a0dce5db",
   "metadata": {},
   "outputs": [],
   "source": [
    "df['difx_sq'] = df.difx**2\n",
    "#df\n",
    "\n",
    "ssx = df.difx_sq.sum()"
   ]
  },
  {
   "cell_type": "code",
   "execution_count": 14,
   "id": "d20e34a3",
   "metadata": {},
   "outputs": [
    {
     "data": {
      "text/html": [
       "<div>\n",
       "<style scoped>\n",
       "    .dataframe tbody tr th:only-of-type {\n",
       "        vertical-align: middle;\n",
       "    }\n",
       "\n",
       "    .dataframe tbody tr th {\n",
       "        vertical-align: top;\n",
       "    }\n",
       "\n",
       "    .dataframe thead th {\n",
       "        text-align: right;\n",
       "    }\n",
       "</style>\n",
       "<table border=\"1\" class=\"dataframe\">\n",
       "  <thead>\n",
       "    <tr style=\"text-align: right;\">\n",
       "      <th></th>\n",
       "      <th>Id</th>\n",
       "      <th>height</th>\n",
       "      <th>weight</th>\n",
       "      <th>difx</th>\n",
       "      <th>difx_sq</th>\n",
       "      <th>dify</th>\n",
       "    </tr>\n",
       "  </thead>\n",
       "  <tbody>\n",
       "    <tr>\n",
       "      <th>0</th>\n",
       "      <td>1</td>\n",
       "      <td>70.49366</td>\n",
       "      <td>129.3840</td>\n",
       "      <td>-2.286686</td>\n",
       "      <td>5.228933</td>\n",
       "      <td>-2.498433</td>\n",
       "    </tr>\n",
       "    <tr>\n",
       "      <th>1</th>\n",
       "      <td>2</td>\n",
       "      <td>65.23482</td>\n",
       "      <td>104.5786</td>\n",
       "      <td>22.518714</td>\n",
       "      <td>507.092477</td>\n",
       "      <td>2.760407</td>\n",
       "    </tr>\n",
       "    <tr>\n",
       "      <th>2</th>\n",
       "      <td>3</td>\n",
       "      <td>67.59619</td>\n",
       "      <td>131.7669</td>\n",
       "      <td>-4.669586</td>\n",
       "      <td>21.805034</td>\n",
       "      <td>0.399037</td>\n",
       "    </tr>\n",
       "    <tr>\n",
       "      <th>3</th>\n",
       "      <td>4</td>\n",
       "      <td>68.51919</td>\n",
       "      <td>135.0276</td>\n",
       "      <td>-7.930286</td>\n",
       "      <td>62.889437</td>\n",
       "      <td>-0.523963</td>\n",
       "    </tr>\n",
       "    <tr>\n",
       "      <th>4</th>\n",
       "      <td>5</td>\n",
       "      <td>67.07600</td>\n",
       "      <td>118.4065</td>\n",
       "      <td>8.690814</td>\n",
       "      <td>75.530247</td>\n",
       "      <td>0.919227</td>\n",
       "    </tr>\n",
       "    <tr>\n",
       "      <th>...</th>\n",
       "      <td>...</td>\n",
       "      <td>...</td>\n",
       "      <td>...</td>\n",
       "      <td>...</td>\n",
       "      <td>...</td>\n",
       "      <td>...</td>\n",
       "    </tr>\n",
       "    <tr>\n",
       "      <th>19995</th>\n",
       "      <td>19996</td>\n",
       "      <td>66.69938</td>\n",
       "      <td>126.4284</td>\n",
       "      <td>0.668914</td>\n",
       "      <td>0.447446</td>\n",
       "      <td>1.295847</td>\n",
       "    </tr>\n",
       "    <tr>\n",
       "      <th>19996</th>\n",
       "      <td>19997</td>\n",
       "      <td>70.60422</td>\n",
       "      <td>133.7741</td>\n",
       "      <td>-6.676786</td>\n",
       "      <td>44.579472</td>\n",
       "      <td>-2.608993</td>\n",
       "    </tr>\n",
       "    <tr>\n",
       "      <th>19997</th>\n",
       "      <td>19998</td>\n",
       "      <td>67.57167</td>\n",
       "      <td>127.7977</td>\n",
       "      <td>-0.700386</td>\n",
       "      <td>0.490541</td>\n",
       "      <td>0.423557</td>\n",
       "    </tr>\n",
       "    <tr>\n",
       "      <th>19998</th>\n",
       "      <td>19999</td>\n",
       "      <td>69.83352</td>\n",
       "      <td>124.5901</td>\n",
       "      <td>2.507214</td>\n",
       "      <td>6.286122</td>\n",
       "      <td>-1.838293</td>\n",
       "    </tr>\n",
       "    <tr>\n",
       "      <th>19999</th>\n",
       "      <td>20000</td>\n",
       "      <td>65.69830</td>\n",
       "      <td>108.4186</td>\n",
       "      <td>18.678714</td>\n",
       "      <td>348.894354</td>\n",
       "      <td>2.296927</td>\n",
       "    </tr>\n",
       "  </tbody>\n",
       "</table>\n",
       "<p>20000 rows × 6 columns</p>\n",
       "</div>"
      ],
      "text/plain": [
       "          Id    height    weight       difx     difx_sq      dify\n",
       "0          1  70.49366  129.3840  -2.286686    5.228933 -2.498433\n",
       "1          2  65.23482  104.5786  22.518714  507.092477  2.760407\n",
       "2          3  67.59619  131.7669  -4.669586   21.805034  0.399037\n",
       "3          4  68.51919  135.0276  -7.930286   62.889437 -0.523963\n",
       "4          5  67.07600  118.4065   8.690814   75.530247  0.919227\n",
       "...      ...       ...       ...        ...         ...       ...\n",
       "19995  19996  66.69938  126.4284   0.668914    0.447446  1.295847\n",
       "19996  19997  70.60422  133.7741  -6.676786   44.579472 -2.608993\n",
       "19997  19998  67.57167  127.7977  -0.700386    0.490541  0.423557\n",
       "19998  19999  69.83352  124.5901   2.507214    6.286122 -1.838293\n",
       "19999  20000  65.69830  108.4186  18.678714  348.894354  2.296927\n",
       "\n",
       "[20000 rows x 6 columns]"
      ]
     },
     "execution_count": 14,
     "metadata": {},
     "output_type": "execute_result"
    }
   ],
   "source": [
    "ym = y.mean()\n",
    "\n",
    "df['dify'] = ym - y\n",
    "df"
   ]
  },
  {
   "cell_type": "code",
   "execution_count": 17,
   "id": "9bf1b100",
   "metadata": {},
   "outputs": [
    {
     "data": {
      "text/plain": [
       "222509.22687406698"
      ]
     },
     "execution_count": 17,
     "metadata": {},
     "output_type": "execute_result"
    }
   ],
   "source": [
    "ssy = (df.difx * df.dify).sum()\n",
    "ssy"
   ]
  },
  {
   "cell_type": "code",
   "execution_count": 19,
   "id": "098bebfd",
   "metadata": {},
   "outputs": [
    {
     "data": {
      "text/plain": [
       "0.08186549625414623"
      ]
     },
     "execution_count": 19,
     "metadata": {},
     "output_type": "execute_result"
    }
   ],
   "source": [
    "# for the slope\n",
    "\n",
    "sp = ssy/ssx\n",
    "sp"
   ]
  },
  {
   "cell_type": "code",
   "execution_count": 20,
   "id": "6647bff2",
   "metadata": {},
   "outputs": [
    {
     "data": {
      "text/plain": [
       "57.590342511633395"
      ]
     },
     "execution_count": 20,
     "metadata": {},
     "output_type": "execute_result"
    }
   ],
   "source": [
    "b = ym - sp*xm\n",
    "b"
   ]
  },
  {
   "cell_type": "code",
   "execution_count": 22,
   "id": "dce4b4bd",
   "metadata": {},
   "outputs": [],
   "source": [
    "def predict(value):\n",
    "    predict = sp*value + b\n",
    "    return predict"
   ]
  },
  {
   "cell_type": "code",
   "execution_count": 27,
   "id": "bc95a1db",
   "metadata": {},
   "outputs": [
    {
     "data": {
      "text/plain": [
       "70.68882191229679"
      ]
     },
     "execution_count": 27,
     "metadata": {},
     "output_type": "execute_result"
    }
   ],
   "source": [
    "predict(160)"
   ]
  },
  {
   "cell_type": "code",
   "execution_count": 26,
   "id": "9f91b158",
   "metadata": {},
   "outputs": [
    {
     "data": {
      "text/plain": [
       "[<matplotlib.lines.Line2D at 0x17d22831df0>]"
      ]
     },
     "execution_count": 26,
     "metadata": {},
     "output_type": "execute_result"
    },
    {
     "data": {
      "image/png": "[encoded data removed]",
      "text/plain": [
       "<Figure size 432x288 with 1 Axes>"
      ]
     },
     "metadata": {
      "needs_background": "light"
     },
     "output_type": "display_data"
    }
   ],
   "source": [
    "plt.scatter(x,y)\n",
    "plt.plot(x,sp*x+b, 'g')"
   ]
  }
 ],
 "metadata": {
  "kernelspec": {
   "display_name": "Python 3 (ipykernel)",
   "language": "python",
   "name": "python3"
  },
  "language_info": {
   "codemirror_mode": {
    "name": "ipython",
    "version": 3
   },
   "file_extension": ".py",
   "mimetype": "text/x-python",
   "name": "python",
   "nbconvert_exporter": "python",
   "pygments_lexer": "ipython3",
   "version": "3.9.6"
  }
 },
 "nbformat": 4,
 "nbformat_minor": 5
}
